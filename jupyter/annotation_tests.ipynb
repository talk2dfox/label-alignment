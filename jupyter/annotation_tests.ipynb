{
 "cells": [
  {
   "cell_type": "markdown",
   "id": "12378c81-f958-43dd-a118-28535570b81e",
   "metadata": {},
   "source": [
    "# Overview"
   ]
  },
  {
   "cell_type": "markdown",
   "id": "67b78469-ddce-4081-ae9e-7820492e8281",
   "metadata": {},
   "source": [
    "data exploration to test assumptions about our text samples for testing"
   ]
  },
  {
   "cell_type": "markdown",
   "id": "bc285b10-6e51-4f11-b9d3-0f919746691a",
   "metadata": {},
   "source": [
    "# Setup"
   ]
  },
  {
   "cell_type": "markdown",
   "id": "0b7fcfd1-aa41-4346-a8c3-0bee2a79f049",
   "metadata": {},
   "source": [
    "## Imports"
   ]
  },
  {
   "cell_type": "code",
   "execution_count": 1,
   "id": "f2a30409-7ea7-47b2-8966-73b3fe5c1df5",
   "metadata": {},
   "outputs": [],
   "source": [
    "import os"
   ]
  },
  {
   "cell_type": "code",
   "execution_count": 2,
   "id": "25d7de7f-dcda-46c8-9de1-c8eb60e3092b",
   "metadata": {},
   "outputs": [],
   "source": [
    "from collections import Counter"
   ]
  },
  {
   "cell_type": "code",
   "execution_count": 3,
   "id": "4b430a59-db07-41c2-94db-181a48e84717",
   "metadata": {},
   "outputs": [],
   "source": [
    "from pathlib import Path"
   ]
  },
  {
   "cell_type": "code",
   "execution_count": 4,
   "id": "a1627d80-cede-4c82-9930-c4789c2ce1f5",
   "metadata": {},
   "outputs": [],
   "source": [
    "import re"
   ]
  },
  {
   "cell_type": "code",
   "execution_count": 5,
   "id": "1f1c8c86-f253-4ae8-bf3e-212384b89c0e",
   "metadata": {},
   "outputs": [],
   "source": [
    "import xml.etree.ElementTree as ET"
   ]
  },
  {
   "cell_type": "code",
   "execution_count": 6,
   "id": "968baa0d-f71a-45bd-a87e-e330ed64ab84",
   "metadata": {},
   "outputs": [],
   "source": [
    "from xml.sax import make_parser, parse"
   ]
  },
  {
   "cell_type": "code",
   "execution_count": 7,
   "id": "f09faace-e256-4354-a05c-300e65f139e2",
   "metadata": {},
   "outputs": [],
   "source": [
    "import label_alignment.sax2spans as sax2spans"
   ]
  },
  {
   "cell_type": "code",
   "execution_count": 8,
   "id": "42265e8a-24f3-406b-8590-5509477cc7fe",
   "metadata": {},
   "outputs": [],
   "source": [
    "import importlib"
   ]
  },
  {
   "cell_type": "code",
   "execution_count": 9,
   "id": "2fb95a90-51fa-4986-8763-00d129c753ee",
   "metadata": {},
   "outputs": [
    {
     "data": {
      "text/plain": [
       "<module 'label_alignment.sax2spans' from '/Users/dcf/development/python/utils/label-alignment/src/label_alignment/sax2spans.py'>"
      ]
     },
     "execution_count": 9,
     "metadata": {},
     "output_type": "execute_result"
    }
   ],
   "source": [
    "importlib.reload(sax2spans)"
   ]
  },
  {
   "cell_type": "code",
   "execution_count": 10,
   "id": "0165939d-41fa-42c8-91ca-c5a665ba9036",
   "metadata": {},
   "outputs": [],
   "source": [
    "import tokenizers"
   ]
  },
  {
   "cell_type": "code",
   "execution_count": 11,
   "id": "0593bda4-99ce-4778-880f-ece2942ae50d",
   "metadata": {},
   "outputs": [
    {
     "data": {
      "text/plain": [
       "typing.Tuple[int, int]"
      ]
     },
     "execution_count": 11,
     "metadata": {},
     "output_type": "execute_result"
    }
   ],
   "source": [
    "tokenizers.Offsets"
   ]
  },
  {
   "cell_type": "code",
   "execution_count": 12,
   "id": "91f65ee0-da76-4958-b515-f1182c652e4e",
   "metadata": {},
   "outputs": [],
   "source": [
    "from tokenizers.pre_tokenizers import Whitespace, WhitespaceSplit"
   ]
  },
  {
   "cell_type": "code",
   "execution_count": 13,
   "id": "0f00085d-78a3-4524-bef1-b59906d3f678",
   "metadata": {},
   "outputs": [],
   "source": [
    "from label_alignment.simple_tokenizers import PretokenizerWrapper, ws_tokenizer, wss_tokenizer"
   ]
  },
  {
   "cell_type": "code",
   "execution_count": 14,
   "id": "c3202e48-f556-47d1-895d-87084d43b20e",
   "metadata": {},
   "outputs": [],
   "source": [
    "from label_alignment.alignment import align_tokens_and_annotations_bilou as ata"
   ]
  },
  {
   "cell_type": "code",
   "execution_count": 15,
   "id": "81496182-306f-4283-829c-c87cbea33d91",
   "metadata": {},
   "outputs": [],
   "source": [
    "from label_alignment.tok2spans import iob2spans"
   ]
  },
  {
   "cell_type": "markdown",
   "id": "2351c8a5-5ae3-4179-873b-dcf7ebbc9acb",
   "metadata": {},
   "source": [
    "# Load Data"
   ]
  },
  {
   "cell_type": "code",
   "execution_count": 16,
   "id": "1dc185df-f5ac-45fb-8967-b2dc5e434806",
   "metadata": {},
   "outputs": [],
   "source": [
    "project_root = Path('..')"
   ]
  },
  {
   "cell_type": "code",
   "execution_count": 17,
   "id": "ffa0ca04-f2aa-450d-9ebd-a1789a71e1f4",
   "metadata": {},
   "outputs": [
    {
     "data": {
      "text/plain": [
       "True"
      ]
     },
     "execution_count": 17,
     "metadata": {},
     "output_type": "execute_result"
    }
   ],
   "source": [
    "project_root.is_dir()"
   ]
  },
  {
   "cell_type": "code",
   "execution_count": 18,
   "id": "15653056-f568-4a5b-84cb-27f9b204ac86",
   "metadata": {},
   "outputs": [
    {
     "data": {
      "text/plain": [
       "PosixPath('/Users/dcf/development/python/utils/label-alignment')"
      ]
     },
     "execution_count": 18,
     "metadata": {},
     "output_type": "execute_result"
    }
   ],
   "source": [
    "project_root.resolve()"
   ]
  },
  {
   "cell_type": "code",
   "execution_count": 19,
   "id": "82de2899-c952-4828-84d8-2a33575a1118",
   "metadata": {},
   "outputs": [],
   "source": [
    "test_data = project_root / 'tests' / 'data'"
   ]
  },
  {
   "cell_type": "code",
   "execution_count": 20,
   "id": "c06069da-5a9b-40cd-acc0-1b61987afc62",
   "metadata": {},
   "outputs": [
    {
     "data": {
      "text/plain": [
       "[PosixPath('../tests/data/annotated_texts')]"
      ]
     },
     "execution_count": 20,
     "metadata": {},
     "output_type": "execute_result"
    }
   ],
   "source": [
    "list(test_data.glob('*'))"
   ]
  },
  {
   "cell_type": "code",
   "execution_count": 21,
   "id": "ed5bbbdd-9d8e-4912-a02a-a5314567ce82",
   "metadata": {},
   "outputs": [],
   "source": [
    "anno_dir = test_data / 'annotated_texts'"
   ]
  },
  {
   "cell_type": "code",
   "execution_count": 22,
   "id": "0b17b301-50aa-4de0-844a-d8694d12ce46",
   "metadata": {},
   "outputs": [
    {
     "data": {
      "text/plain": [
       "[PosixPath('../tests/data/annotated_texts/verne_20000_leagues.ch5.txt')]"
      ]
     },
     "execution_count": 22,
     "metadata": {},
     "output_type": "execute_result"
    }
   ],
   "source": [
    "list(anno_dir.glob('*.txt'))"
   ]
  },
  {
   "cell_type": "code",
   "execution_count": 23,
   "id": "e9ac1120-8e0d-47ad-bf20-ef40cb55bd00",
   "metadata": {},
   "outputs": [
    {
     "data": {
      "text/plain": [
       "[PosixPath('../tests/data/annotated_texts/verne_20000_leagues.ch5.xml')]"
      ]
     },
     "execution_count": 23,
     "metadata": {},
     "output_type": "execute_result"
    }
   ],
   "source": [
    "list(anno_dir.glob('*.xml'))"
   ]
  },
  {
   "cell_type": "code",
   "execution_count": 24,
   "id": "e422403e-e8c9-4f79-b7c0-962d983abf63",
   "metadata": {},
   "outputs": [],
   "source": [
    "verne = 'verne_20000_leagues.ch5'"
   ]
  },
  {
   "cell_type": "code",
   "execution_count": 25,
   "id": "7a69d12e-487f-45bc-9c26-dda919854921",
   "metadata": {},
   "outputs": [],
   "source": [
    "with open(anno_dir / (verne + '.txt')) as vin:\n",
    "    vtext = vin.read()\n",
    "    "
   ]
  },
  {
   "cell_type": "code",
   "execution_count": 26,
   "id": "a3ef3ca2-1502-4c32-a06e-e4deaf2192ad",
   "metadata": {},
   "outputs": [
    {
     "data": {
      "text/plain": [
       "'The voyage of the Abraham Lincoln was for a long time marked by no special incident. But one circumstance happened which showed\\nthe wonderful dexterity of Ned Land, and proved what confidence we might place in him.\\n\\nThe 30th of June, the frigate spoke some American whalers, from whom we learned that they knew nothing about the narwhal. But\\none of them, the captain of the Monroe, knowing that Ned Land had shipped on board the Abraham Lincoln, begged for his help in\\nchasing a whale they had in sight. Commander Farragut, desirous of seeing Ned Land at work, gave him permission to go on board\\nthe Monroe. And fate served our Canadian so well that, instead of one whale, he harpooned two with a double blow, striking one\\nstraight to the heart, and catching the other after some minutes’ pursuit.\\n\\nDecidedly, if the monster ever had to do with Ned Land’s harpoon, I would not bet in its favour.\\n\\nThe frigate skirted the south-east coast of America with great rapidity. The 3rd of July we were at the opening of the Straits\\nof Magellan, level with Cape Vierges. But Commander Farragut would not take a tortuous passage, but doubled Cape Horn.\\n'"
      ]
     },
     "execution_count": 26,
     "metadata": {},
     "output_type": "execute_result"
    }
   ],
   "source": [
    "vtext"
   ]
  },
  {
   "cell_type": "code",
   "execution_count": 27,
   "id": "31b5e1d9-ede8-4b49-b80c-1fabf71daaba",
   "metadata": {},
   "outputs": [],
   "source": [
    "re.search('  ', vtext)"
   ]
  },
  {
   "cell_type": "code",
   "execution_count": 28,
   "id": "67e9db3e-7253-4070-a52e-5ca3b4d709cd",
   "metadata": {},
   "outputs": [
    {
     "data": {
      "text/plain": [
       "'The voyage of the Abraham Lincoln was for a long time marked by no special incident. But one circumstance happened which showed\\nthe wonderful dexterity of Ned Land, and proved what confidence we might place in him.FOOThe 30th of June, the frigate spoke some American whalers, from whom we learned that they knew nothing about the narwhal. But\\none of them, the captain of the Monroe, knowing that Ned Land had shipped on board the Abraham Lincoln, begged for his help in\\nchasing a whale they had in sight. Commander Farragut, desirous of seeing Ned Land at work, gave him permission to go on board\\nthe Monroe. And fate served our Canadian so well that, instead of one whale, he harpooned two with a double blow, striking one\\nstraight to the heart, and catching the other after some minutes’ pursuit.FOODecidedly, if the monster ever had to do with Ned Land’s harpoon, I would not bet in its favour.FOOThe frigate skirted the south-east coast of America with great rapidity. The 3rd of July we were at the opening of the Straits\\nof Magellan, level with Cape Vierges. But Commander Farragut would not take a tortuous passage, but doubled Cape Horn.\\n'"
      ]
     },
     "execution_count": 28,
     "metadata": {},
     "output_type": "execute_result"
    }
   ],
   "source": [
    "re.sub(r'\\n{2}', 'FOO', vtext)"
   ]
  },
  {
   "cell_type": "code",
   "execution_count": 29,
   "id": "4565f8db-fff9-4a86-b009-01306d5a88a1",
   "metadata": {},
   "outputs": [],
   "source": [
    "vx = ET.parse(anno_dir / (verne + '.xml'))"
   ]
  },
  {
   "cell_type": "markdown",
   "id": "30d3fe78-338e-44ac-9f2f-06c32a2e77a6",
   "metadata": {},
   "source": [
    "# Data Exploration"
   ]
  },
  {
   "cell_type": "markdown",
   "id": "7c08407c-246e-474f-8735-f965a381ca88",
   "metadata": {},
   "source": [
    "## Via ElementTree"
   ]
  },
  {
   "cell_type": "code",
   "execution_count": 30,
   "id": "ad17ef88-2555-489b-b364-1da76abfad5e",
   "metadata": {},
   "outputs": [],
   "source": [
    "root = vx.getroot()"
   ]
  },
  {
   "cell_type": "code",
   "execution_count": 31,
   "id": "3a20820d-8652-467f-896e-56d7151102fc",
   "metadata": {},
   "outputs": [
    {
     "data": {
      "text/plain": [
       "'doc'"
      ]
     },
     "execution_count": 31,
     "metadata": {},
     "output_type": "execute_result"
    }
   ],
   "source": [
    "root.tag"
   ]
  },
  {
   "cell_type": "code",
   "execution_count": 32,
   "id": "66b9ceed-fd5f-4089-b863-cc747d1b7f69",
   "metadata": {},
   "outputs": [
    {
     "data": {
      "text/plain": [
       "[<Element 'p' at 0x10b30be20>,\n",
       " <Element 'p' at 0x10b3204f0>,\n",
       " <Element 'p' at 0x10b320810>,\n",
       " <Element 'p' at 0x10b3208b0>]"
      ]
     },
     "execution_count": 32,
     "metadata": {},
     "output_type": "execute_result"
    }
   ],
   "source": [
    "list(root)"
   ]
  },
  {
   "cell_type": "code",
   "execution_count": 33,
   "id": "e7b6a2c7-5781-40d9-8503-60477b6ce36a",
   "metadata": {},
   "outputs": [
    {
     "data": {
      "text/plain": [
       "<Element 'p' at 0x10b30be20>"
      ]
     },
     "execution_count": 33,
     "metadata": {},
     "output_type": "execute_result"
    }
   ],
   "source": [
    "root[0]"
   ]
  },
  {
   "cell_type": "code",
   "execution_count": 34,
   "id": "404107be-96c5-40fd-bb10-65b17018ffe8",
   "metadata": {},
   "outputs": [
    {
     "data": {
      "text/plain": [
       "[<Element 'p' at 0x10b30be20>,\n",
       " <Element 'p' at 0x10b3204f0>,\n",
       " <Element 'p' at 0x10b320810>,\n",
       " <Element 'p' at 0x10b3208b0>]"
      ]
     },
     "execution_count": 34,
     "metadata": {},
     "output_type": "execute_result"
    }
   ],
   "source": [
    "root.findall('p')"
   ]
  },
  {
   "cell_type": "code",
   "execution_count": 35,
   "id": "d1aefe64-9b22-4187-89bc-5ab8eb25f916",
   "metadata": {},
   "outputs": [],
   "source": [
    "p1 = root.find('p')"
   ]
  },
  {
   "cell_type": "code",
   "execution_count": null,
   "id": "32a35cd7-3111-4200-b4a1-8f4a3a883ba9",
   "metadata": {},
   "outputs": [],
   "source": []
  },
  {
   "cell_type": "code",
   "execution_count": 36,
   "id": "1ad75949-9189-4a4a-b7d7-0975075ecbd9",
   "metadata": {},
   "outputs": [
    {
     "data": {
      "text/plain": [
       "[<Element 'vessel' at 0x10b320400>, <Element 'person' at 0x10b3204a0>]"
      ]
     },
     "execution_count": 36,
     "metadata": {},
     "output_type": "execute_result"
    }
   ],
   "source": [
    "list(p1)"
   ]
  },
  {
   "cell_type": "code",
   "execution_count": 37,
   "id": "36933e81-be06-499e-a7d9-f140de942111",
   "metadata": {},
   "outputs": [
    {
     "data": {
      "text/plain": [
       "'The voyage of the '"
      ]
     },
     "execution_count": 37,
     "metadata": {},
     "output_type": "execute_result"
    }
   ],
   "source": [
    "p1.text"
   ]
  },
  {
   "cell_type": "code",
   "execution_count": 38,
   "id": "e0d4e82e-c42d-498d-869c-5607b9efcbfa",
   "metadata": {},
   "outputs": [
    {
     "data": {
      "text/plain": [
       "[<Element 'p' at 0x10b30be20>,\n",
       " <Element 'vessel' at 0x10b320400>,\n",
       " <Element 'person' at 0x10b3204a0>]"
      ]
     },
     "execution_count": 38,
     "metadata": {},
     "output_type": "execute_result"
    }
   ],
   "source": [
    "list(p1.iter())"
   ]
  },
  {
   "cell_type": "code",
   "execution_count": 39,
   "id": "0a102595-0147-4f8f-9112-74f3529a6f8c",
   "metadata": {},
   "outputs": [
    {
     "data": {
      "text/plain": [
       "[('The voyage of the ', '\\n\\n'),\n",
       " ('Abraham Lincoln',\n",
       "  ' was for a long time marked by no special incident. But one circumstance happened which showed the wonderful dexterity of '),\n",
       " ('Ned Land', ', and proved what confidence we might place in him.')]"
      ]
     },
     "execution_count": 39,
     "metadata": {},
     "output_type": "execute_result"
    }
   ],
   "source": [
    "[(x.text, x.tail) for x in p1.iter()]"
   ]
  },
  {
   "cell_type": "markdown",
   "id": "bc3f6afa-517d-4e03-baea-85eb1fc52438",
   "metadata": {},
   "source": [
    "## Via Sax"
   ]
  },
  {
   "cell_type": "code",
   "execution_count": 40,
   "id": "8eb07714-b6c3-4d66-9efd-08b87161243e",
   "metadata": {},
   "outputs": [],
   "source": [
    "sparser = make_parser()"
   ]
  },
  {
   "cell_type": "code",
   "execution_count": 41,
   "id": "346e366b-e3d9-4011-b4e1-1b4ee69b85fb",
   "metadata": {},
   "outputs": [],
   "source": [
    "rep = sax2spans.Reporter()"
   ]
  },
  {
   "cell_type": "code",
   "execution_count": 42,
   "id": "ad5715b0-72f7-4553-b56a-b7668898a48f",
   "metadata": {},
   "outputs": [
    {
     "data": {
      "text/plain": [
       "<label_alignment.sax2spans.Reporter at 0x10b330fe0>"
      ]
     },
     "execution_count": 42,
     "metadata": {},
     "output_type": "execute_result"
    }
   ],
   "source": [
    "rep"
   ]
  },
  {
   "cell_type": "code",
   "execution_count": 43,
   "id": "0478df82-0124-4e42-983d-3421dacf52df",
   "metadata": {},
   "outputs": [],
   "source": [
    "rep.locator"
   ]
  },
  {
   "cell_type": "code",
   "execution_count": 44,
   "id": "35f83150-e6bb-41cc-84d0-adbe010a0c85",
   "metadata": {},
   "outputs": [
    {
     "data": {
      "text/plain": [
       "True"
      ]
     },
     "execution_count": 44,
     "metadata": {},
     "output_type": "execute_result"
    }
   ],
   "source": [
    "rep._locator is rep.locator"
   ]
  },
  {
   "cell_type": "code",
   "execution_count": 45,
   "id": "56bdf2ee-faeb-4f19-b544-444b308cb6e6",
   "metadata": {},
   "outputs": [
    {
     "name": "stdout",
     "output_type": "stream",
     "text": [
      "<xml.sax.expatreader.ExpatLocator object at 0x10b2bc3b0>\n",
      "starting doc\n",
      "1 characters\n",
      "starting p\n",
      "18 characters\n",
      "starting vessel\n",
      "15 characters\n",
      "ending vessel\n",
      "122 characters\n",
      "starting person\n",
      "8 characters\n",
      "ending person\n",
      "51 characters\n",
      "ending p\n",
      "1 characters\n",
      "1 characters\n",
      "starting p\n",
      "4 characters\n",
      "starting date\n",
      "13 characters\n",
      "ending date\n",
      "24 characters\n",
      "starting nationality\n",
      "8 characters\n",
      "ending nationality\n",
      "109 characters\n",
      "starting vessel\n",
      "6 characters\n",
      "ending vessel\n",
      "15 characters\n",
      "starting person\n",
      "8 characters\n",
      "ending person\n",
      "26 characters\n",
      "starting vessel\n",
      "15 characters\n",
      "ending vessel\n",
      "60 characters\n",
      "starting person\n",
      "18 characters\n",
      "ending person\n",
      "21 characters\n",
      "starting person\n",
      "8 characters\n",
      "ending person\n",
      "246 characters\n",
      "ending p\n",
      "1 characters\n",
      "1 characters\n",
      "starting p\n",
      "46 characters\n",
      "starting person\n",
      "8 characters\n",
      "ending person\n",
      "42 characters\n",
      "ending p\n",
      "1 characters\n",
      "1 characters\n",
      "starting p\n",
      "44 characters\n",
      "starting country\n",
      "7 characters\n",
      "ending country\n",
      "26 characters\n",
      "starting date\n",
      "11 characters\n",
      "ending date\n",
      "31 characters\n",
      "starting place\n",
      "19 characters\n",
      "ending place\n",
      "13 characters\n",
      "starting place\n",
      "12 characters\n",
      "ending place\n",
      "6 characters\n",
      "starting person\n",
      "18 characters\n",
      "ending person\n",
      "48 characters\n",
      "starting place\n",
      "9 characters\n",
      "ending place\n",
      "1 characters\n",
      "ending p\n",
      "1 characters\n",
      "ending doc\n"
     ]
    }
   ],
   "source": [
    "parse(anno_dir / (verne + '.xml'), rep)"
   ]
  },
  {
   "cell_type": "code",
   "execution_count": 46,
   "id": "a4a53266-5a28-4fb5-8d57-fe67451c2152",
   "metadata": {},
   "outputs": [],
   "source": [
    "ch = sax2spans.SpanAndText(verbose=1)"
   ]
  },
  {
   "cell_type": "code",
   "execution_count": null,
   "id": "03164151-ed54-47b0-890a-0b076262110b",
   "metadata": {},
   "outputs": [],
   "source": []
  },
  {
   "cell_type": "code",
   "execution_count": 47,
   "id": "91fad8eb-0432-48e1-97be-0b30a2927eeb",
   "metadata": {},
   "outputs": [
    {
     "name": "stdout",
     "output_type": "stream",
     "text": [
      "starting doc\n",
      "starting paragraph\n",
      "starting vessel\n",
      "ending vessel\n",
      "starting person\n",
      "ending person\n",
      "ending paragraph\n",
      "ignoring text outside paragraphs\n",
      "ignoring text outside paragraphs\n",
      "starting paragraph\n",
      "starting date\n",
      "ending date\n",
      "starting nationality\n",
      "ending nationality\n",
      "starting vessel\n",
      "ending vessel\n",
      "starting person\n",
      "ending person\n",
      "starting vessel\n",
      "ending vessel\n",
      "starting person\n",
      "ending person\n",
      "starting person\n",
      "ending person\n",
      "ending paragraph\n",
      "ignoring text outside paragraphs\n",
      "ignoring text outside paragraphs\n",
      "starting paragraph\n",
      "starting person\n",
      "ending person\n",
      "ending paragraph\n",
      "ignoring text outside paragraphs\n",
      "ignoring text outside paragraphs\n",
      "starting paragraph\n",
      "starting country\n",
      "ending country\n",
      "starting date\n",
      "ending date\n",
      "starting place\n",
      "ending place\n",
      "starting place\n",
      "ending place\n",
      "starting person\n",
      "ending person\n",
      "starting place\n",
      "ending place\n",
      "ending paragraph\n",
      "ignoring text outside paragraphs\n",
      "ending doc\n",
      "4 paragraphs\n"
     ]
    }
   ],
   "source": [
    "parse(anno_dir / (verne + '.xml'), ch)"
   ]
  },
  {
   "cell_type": "code",
   "execution_count": 48,
   "id": "596415e1-5810-4790-ba77-5cda8387a09c",
   "metadata": {},
   "outputs": [],
   "source": [
    "text, annos = sax2spans.text_and_spans(ch)"
   ]
  },
  {
   "cell_type": "code",
   "execution_count": 49,
   "id": "85e266d5-ab01-46b3-95f0-699b337f8334",
   "metadata": {},
   "outputs": [
    {
     "data": {
      "text/plain": [
       "1140"
      ]
     },
     "execution_count": 49,
     "metadata": {},
     "output_type": "execute_result"
    }
   ],
   "source": [
    "len(text)"
   ]
  },
  {
   "cell_type": "code",
   "execution_count": 50,
   "id": "2d5b5a97-cfb7-45b7-bd12-6669e1e8360f",
   "metadata": {},
   "outputs": [
    {
     "name": "stdout",
     "output_type": "stream",
     "text": [
      "The voyage of the Abraham Lincoln was for a long time marked by no special incident. But one circumstance happened which showed the wonderful dexterity of Ned Land, and proved what confidence we might place in him.\n",
      "The 30th of June, the frigate spoke some American whalers, from whom we learned that they knew nothing about the narwhal. But one of them, the captain of the Monroe, knowing that Ned Land had shipped on board the Abraham Lincoln, begged for his help in chasing a whale they had in sight. Commander Farragut, desirous of seeing Ned Land at work, gave him permission to go on board the Monroe. And fate served our Canadian so well that, instead of one whale, he harpooned two with a double blow, striking one straight to the heart, and catching the other after some minutes’ pursuit.\n",
      "Decidedly, if the monster ever had to do with Ned Land’s harpoon, I would not bet in its favour.\n",
      "The frigate skirted the south-east coast of America with great rapidity. The 3rd of July we were at the opening of the Straits of Magellan, level with Cape Vierges. But Commander Farragut would not take a tortuous passage, but doubled Cape Horn.\n",
      "\n"
     ]
    }
   ],
   "source": [
    "print(text)"
   ]
  },
  {
   "cell_type": "code",
   "execution_count": 51,
   "id": "0ab6d940-b220-48f0-ac48-d1bd04588002",
   "metadata": {},
   "outputs": [
    {
     "data": {
      "text/plain": [
       "16"
      ]
     },
     "execution_count": 51,
     "metadata": {},
     "output_type": "execute_result"
    }
   ],
   "source": [
    "len(annos)"
   ]
  },
  {
   "cell_type": "code",
   "execution_count": 52,
   "id": "b825f586-3a6d-47fc-aeba-a6bddb2dc63e",
   "metadata": {},
   "outputs": [
    {
     "data": {
      "text/plain": [
       "SpanAnnotation(vessel, 18, 33)"
      ]
     },
     "execution_count": 52,
     "metadata": {},
     "output_type": "execute_result"
    }
   ],
   "source": [
    "annos[0]"
   ]
  },
  {
   "cell_type": "code",
   "execution_count": 53,
   "id": "58eb9728-518d-4fa8-9755-9635bdeadc9a",
   "metadata": {},
   "outputs": [
    {
     "name": "stdout",
     "output_type": "stream",
     "text": [
      "vessel\n",
      "18 33\n",
      "Abraham Lincoln\n",
      "person\n",
      "155 163\n",
      "Ned Land\n",
      "date\n",
      "219 232\n",
      "30th of June,\n",
      "nationality\n",
      "256 264\n",
      "American\n",
      "vessel\n",
      "373 379\n",
      "Monroe\n",
      "person\n",
      "394 402\n",
      "Ned Land\n",
      "vessel\n",
      "428 443\n",
      "Abraham Lincoln\n",
      "person\n",
      "503 521\n",
      "Commander Farragut\n",
      "person\n",
      "542 550\n",
      "Ned Land\n",
      "person\n",
      "843 851\n",
      "Ned Land\n",
      "country\n",
      "938 945\n",
      "America\n",
      "date\n",
      "971 982\n",
      "3rd of July\n",
      "place\n",
      "1013 1032\n",
      "Straits of Magellan\n",
      "place\n",
      "1045 1057\n",
      "Cape Vierges\n",
      "person\n",
      "1063 1081\n",
      "Commander Farragut\n",
      "place\n",
      "1129 1138\n",
      "Cape Horn\n"
     ]
    }
   ],
   "source": [
    "for anno in annos:\n",
    "    print(anno.label)\n",
    "    print(anno.start, anno.end)\n",
    "    print(text[anno.start:anno.end])\n"
   ]
  },
  {
   "cell_type": "code",
   "execution_count": 54,
   "id": "48c90210-6111-4d83-b43a-89c256b0e320",
   "metadata": {},
   "outputs": [],
   "source": [
    "def summarize_annos(text, annos):\n",
    "    by_label = {}\n",
    "    for anno in annos:\n",
    "        by_label.setdefault(anno.label, Counter()).update([text[anno.start:anno.end]])\n",
    "    return by_label\n"
   ]
  },
  {
   "cell_type": "code",
   "execution_count": 55,
   "id": "a397ffa8-76b6-49a1-bb65-11d7cc8763e3",
   "metadata": {},
   "outputs": [
    {
     "data": {
      "text/plain": [
       "{'vessel': Counter({'Abraham Lincoln': 2, 'Monroe': 1}),\n",
       " 'person': Counter({'Ned Land': 4, 'Commander Farragut': 2}),\n",
       " 'date': Counter({'30th of June,': 1, '3rd of July': 1}),\n",
       " 'nationality': Counter({'American': 1}),\n",
       " 'country': Counter({'America': 1}),\n",
       " 'place': Counter({'Straits of Magellan': 1,\n",
       "          'Cape Vierges': 1,\n",
       "          'Cape Horn': 1})}"
      ]
     },
     "execution_count": 55,
     "metadata": {},
     "output_type": "execute_result"
    }
   ],
   "source": [
    "summarize_annos(text, annos)"
   ]
  },
  {
   "cell_type": "code",
   "execution_count": 56,
   "id": "0f7557eb-97da-428b-ae4d-7edd70698dde",
   "metadata": {},
   "outputs": [],
   "source": [
    "cws = sax2spans.find_consec_whitespace(text)"
   ]
  },
  {
   "cell_type": "code",
   "execution_count": 57,
   "id": "03f946fd-02f2-4de3-858a-a8f95f7068de",
   "metadata": {},
   "outputs": [
    {
     "data": {
      "text/plain": [
       "0"
      ]
     },
     "execution_count": 57,
     "metadata": {},
     "output_type": "execute_result"
    }
   ],
   "source": [
    "len(cws)"
   ]
  },
  {
   "cell_type": "markdown",
   "id": "4548f396-d09f-45cf-88d9-405a85b411e8",
   "metadata": {},
   "source": [
    "# Tokenization Testing"
   ]
  },
  {
   "cell_type": "markdown",
   "id": "0e28f269-ef3c-4ed8-901f-bad28b9e956a",
   "metadata": {},
   "source": [
    "## Recovering Token Index for char2token"
   ]
  },
  {
   "cell_type": "code",
   "execution_count": 58,
   "id": "42ece456-7036-4294-a3eb-b05ae445e312",
   "metadata": {},
   "outputs": [],
   "source": [
    "from bisect import bisect_left, bisect_right"
   ]
  },
  {
   "cell_type": "code",
   "execution_count": 59,
   "id": "b6a0407f-04a6-499a-b9ac-be466be72427",
   "metadata": {},
   "outputs": [],
   "source": [
    "a = [1, 5, 6, 13, 14, 19, 25]"
   ]
  },
  {
   "cell_type": "code",
   "execution_count": 60,
   "id": "20034395-fe57-4706-89e2-d3e3a56ac121",
   "metadata": {},
   "outputs": [
    {
     "data": {
      "text/plain": [
       "3"
      ]
     },
     "execution_count": 60,
     "metadata": {},
     "output_type": "execute_result"
    }
   ],
   "source": [
    "bisect_left(a, 7)"
   ]
  },
  {
   "cell_type": "code",
   "execution_count": 61,
   "id": "be5c1dd8-3957-4145-a603-eef70cfe89ea",
   "metadata": {},
   "outputs": [
    {
     "data": {
      "text/plain": [
       "'The voyage of the Abraham Lincoln was for a long time marked by no special incident. But one circumstance happened which showed the wonderful dexterity of Ned Land, and proved what confidence we might place in him.\\nThe 30th of June, the frigate spoke some American whalers, from whom we learned that they knew nothing about the narwhal. But one of them, the captain of the Monroe, knowing that Ned Land had shipped on board the Abraham Lincoln, begged for his help in chasing a whale they had in sight. Commander Farragut, desirous of seeing Ned Land at work, gave him permission to go on board the Monroe. And fate served our Canadian so well that, instead of one whale, he harpooned two with a double blow, striking one straight to the heart, and catching the other after some minutes’ pursuit.\\nDecidedly, if the monster ever had to do with Ned Land’s harpoon, I would not bet in its favour.\\nThe frigate skirted the south-east coast of America with great rapidity. The 3rd of July we were at the opening of the Straits of Magellan, level with Cape Vierges. But Commander Farragut would not take a tortuous passage, but doubled Cape Horn.\\n'"
      ]
     },
     "execution_count": 61,
     "metadata": {},
     "output_type": "execute_result"
    }
   ],
   "source": [
    "text"
   ]
  },
  {
   "cell_type": "markdown",
   "id": "03993718-20e9-41d7-9535-025f88a337b7",
   "metadata": {},
   "source": [
    "### Simple Tokenizers"
   ]
  },
  {
   "cell_type": "markdown",
   "id": "9231a32f-dfb6-4ca2-b5d6-ccb7ce21bb58",
   "metadata": {},
   "source": [
    "create tokenizers from Hugging Face pre-tokenizers"
   ]
  },
  {
   "cell_type": "markdown",
   "id": "aac428ae-1aab-4ba3-a800-59d2d62c1fa8",
   "metadata": {},
   "source": [
    "**Note:** HuggingFace Tokenizer class requires a trainable model, so it won't actually do simple\n",
    "tokenization.  However, we can use the hugging face pre-tokenizers to build a tokenizer whose output\n",
    "conforms to the output of a Tokenizer."
   ]
  },
  {
   "cell_type": "code",
   "execution_count": null,
   "id": "e995bf60-8759-431d-bb9e-7f9b22de1b6d",
   "metadata": {},
   "outputs": [],
   "source": []
  },
  {
   "cell_type": "markdown",
   "id": "9ee43a0d-0560-4bef-b7c9-9cf4460912f1",
   "metadata": {},
   "source": [
    "#### Whitespace\n"
   ]
  },
  {
   "cell_type": "markdown",
   "id": "98122f96-c5f5-471d-ad9f-3e0f842231d5",
   "metadata": {},
   "source": [
    "\"Whitespace\" pre-tokenizer is a misnomer - it actually splits on '\\w+|[^\\w\\s]+' which also separates punctuation (except for underscore) from words.  For simple splitting on whitespace, use WhitespaceSplit"
   ]
  },
  {
   "cell_type": "code",
   "execution_count": 62,
   "id": "efeba01e-17e7-4f91-8ec9-44e8ab1bd9ed",
   "metadata": {},
   "outputs": [],
   "source": [
    "wss = WhitespaceSplit()"
   ]
  },
  {
   "cell_type": "code",
   "execution_count": 63,
   "id": "643ae992-e861-4a1c-afb8-927e8c679d14",
   "metadata": {},
   "outputs": [
    {
     "name": "stdout",
     "output_type": "stream",
     "text": [
      "Help on built-in function pre_tokenize_str:\n",
      "\n",
      "pre_tokenize_str(self, sequence) method of tokenizers.pre_tokenizers.WhitespaceSplit instance\n",
      "    Pre tokenize the given string\n",
      "\n",
      "    This method provides a way to visualize the effect of a\n",
      "    :class:`~tokenizers.pre_tokenizers.PreTokenizer` but it does not keep track of the\n",
      "    alignment, nor does it provide all the capabilities of the\n",
      "    :class:`~tokenizers.PreTokenizedString`. If you need some of these, you can use\n",
      "    :meth:`~tokenizers.pre_tokenizers.PreTokenizer.pre_tokenize`\n",
      "\n",
      "    Args:\n",
      "        sequence (:obj:`str`):\n",
      "            A string to pre-tokeize\n",
      "\n",
      "    Returns:\n",
      "        :obj:`List[Tuple[str, Offsets]]`:\n",
      "            A list of tuple with the pre-tokenized parts and their offsets\n",
      "\n"
     ]
    }
   ],
   "source": [
    "help(wss.pre_tokenize_str)"
   ]
  },
  {
   "cell_type": "code",
   "execution_count": 64,
   "id": "36d4bce2-dedc-46c9-8107-177035b1492d",
   "metadata": {},
   "outputs": [],
   "source": [
    "spaced = wss.pre_tokenize_str(text)"
   ]
  },
  {
   "cell_type": "code",
   "execution_count": 65,
   "id": "7f446194-0f88-41c4-80b8-6f222c9921af",
   "metadata": {},
   "outputs": [],
   "source": [
    "import itertools"
   ]
  },
  {
   "cell_type": "code",
   "execution_count": 66,
   "id": "a0a6478d-e065-4870-b409-cb8674323ac8",
   "metadata": {},
   "outputs": [],
   "source": [
    "def flatten(list_of_lists):\n",
    "    \"Flatten one level of nesting.\"\n",
    "    return itertools.chain.from_iterable(list_of_lists)"
   ]
  },
  {
   "cell_type": "code",
   "execution_count": 67,
   "id": "cbad0fd8-8387-4bf8-8a3e-6b8900b3d54b",
   "metadata": {},
   "outputs": [],
   "source": [
    "bounds = [x[1] for x in spaced]"
   ]
  },
  {
   "cell_type": "code",
   "execution_count": 68,
   "id": "95a6c5a5-461f-4c80-91b8-b7e97c47eca5",
   "metadata": {},
   "outputs": [
    {
     "data": {
      "text/plain": [
       "[(0, 3),\n",
       " (4, 10),\n",
       " (11, 13),\n",
       " (14, 17),\n",
       " (18, 25),\n",
       " (26, 33),\n",
       " (34, 37),\n",
       " (38, 41),\n",
       " (42, 43),\n",
       " (44, 48),\n",
       " (49, 53),\n",
       " (54, 60),\n",
       " (61, 63),\n",
       " (64, 66),\n",
       " (67, 74)]"
      ]
     },
     "execution_count": 68,
     "metadata": {},
     "output_type": "execute_result"
    }
   ],
   "source": [
    "bounds[:15]"
   ]
  },
  {
   "cell_type": "markdown",
   "id": "3fb44d85-70e7-41a4-acfc-0b2b3cea670c",
   "metadata": {},
   "source": [
    "token bounds follow the python convention: token 0 -> characters 0 up to (but not including) 3"
   ]
  },
  {
   "cell_type": "code",
   "execution_count": 69,
   "id": "f80cfa91-0932-4260-80fd-80949e7a57ed",
   "metadata": {},
   "outputs": [],
   "source": [
    "fb = list(flatten(bounds))"
   ]
  },
  {
   "cell_type": "code",
   "execution_count": 70,
   "id": "ed4be501-6289-4c6e-8ba6-92f38b0cacf6",
   "metadata": {},
   "outputs": [
    {
     "data": {
      "text/plain": [
       "[0,\n",
       " 3,\n",
       " 4,\n",
       " 10,\n",
       " 11,\n",
       " 13,\n",
       " 14,\n",
       " 17,\n",
       " 18,\n",
       " 25,\n",
       " 26,\n",
       " 33,\n",
       " 34,\n",
       " 37,\n",
       " 38,\n",
       " 41,\n",
       " 42,\n",
       " 43,\n",
       " 44,\n",
       " 48,\n",
       " 49,\n",
       " 53,\n",
       " 54,\n",
       " 60,\n",
       " 61,\n",
       " 63,\n",
       " 64,\n",
       " 66,\n",
       " 67,\n",
       " 74]"
      ]
     },
     "execution_count": 70,
     "metadata": {},
     "output_type": "execute_result"
    }
   ],
   "source": [
    "fb[:30]"
   ]
  },
  {
   "cell_type": "code",
   "execution_count": 71,
   "id": "f4487902-845f-49f6-8372-ce5254bf7795",
   "metadata": {},
   "outputs": [
    {
     "name": "stdout",
     "output_type": "stream",
     "text": [
      "13 5 6 (13, 14)\n",
      "14 6 7 (14, 17)\n",
      "15 7 7 (17, 17)\n",
      "16 7 7 (17, 17)\n",
      "17 7 8 (17, 18)\n",
      "18 8 9 (18, 25)\n",
      "19 9 9 (25, 25)\n"
     ]
    }
   ],
   "source": [
    "for i in range(13, 20):\n",
    "    br = bisect_right(fb, i)\n",
    "    bl = bisect_left(fb, i)\n",
    "    print(i, bl, br, f'({fb[bl]}, {fb[br]})')"
   ]
  },
  {
   "cell_type": "code",
   "execution_count": 72,
   "id": "6eb4ebb1-70e1-4a04-a4ad-d60833cce251",
   "metadata": {},
   "outputs": [],
   "source": [
    "wss_tok = wss_tokenizer()"
   ]
  },
  {
   "cell_type": "code",
   "execution_count": 73,
   "id": "852b5bf4-f268-4f2f-9388-01afdcd8bc63",
   "metadata": {},
   "outputs": [],
   "source": [
    "toked = wss_tok.tokenize(text)"
   ]
  },
  {
   "cell_type": "code",
   "execution_count": 74,
   "id": "9d359796-5e9d-435e-8e9e-ac3a19893f70",
   "metadata": {},
   "outputs": [
    {
     "name": "stdout",
     "output_type": "stream",
     "text": [
      "13   None ?\n",
      "14 t 3 the\n",
      "15 h 3 the\n",
      "16 e 3 the\n",
      "17   None ?\n",
      "18 A 4 Abraham\n",
      "19 b 4 Abraham\n"
     ]
    }
   ],
   "source": [
    "for i in range (13, 20):\n",
    "    ti = toked.char_to_token(i)\n",
    "    tc = '?'\n",
    "    if ti is not None:\n",
    "        tc = toked.tokens[ti]\n",
    "    print(i, text[i], ti, tc)"
   ]
  },
  {
   "cell_type": "code",
   "execution_count": 75,
   "id": "efbccb52-e4e7-4e29-83bd-65ab5e8a3343",
   "metadata": {},
   "outputs": [
    {
     "data": {
      "text/plain": [
       "[{'start': 18, 'label': 'vessel', 'end': 33},\n",
       " {'start': 155, 'label': 'person', 'end': 163},\n",
       " {'start': 219, 'label': 'date', 'end': 232},\n",
       " {'start': 256, 'label': 'nationality', 'end': 264},\n",
       " {'start': 373, 'label': 'vessel', 'end': 379},\n",
       " {'start': 394, 'label': 'person', 'end': 402},\n",
       " {'start': 428, 'label': 'vessel', 'end': 443},\n",
       " {'start': 503, 'label': 'person', 'end': 521},\n",
       " {'start': 542, 'label': 'person', 'end': 550},\n",
       " {'start': 843, 'label': 'person', 'end': 851},\n",
       " {'start': 938, 'label': 'country', 'end': 945},\n",
       " {'start': 971, 'label': 'date', 'end': 982},\n",
       " {'start': 1013, 'label': 'place', 'end': 1032},\n",
       " {'start': 1045, 'label': 'place', 'end': 1057},\n",
       " {'start': 1063, 'label': 'person', 'end': 1081},\n",
       " {'start': 1129, 'label': 'place', 'end': 1138}]"
      ]
     },
     "execution_count": 75,
     "metadata": {},
     "output_type": "execute_result"
    }
   ],
   "source": [
    "spans = [a.to_labeled_span() for a in annos]\n",
    "spans"
   ]
  },
  {
   "cell_type": "code",
   "execution_count": 76,
   "id": "22910a5c-ad16-4fc5-aee5-3b0e0e845274",
   "metadata": {},
   "outputs": [],
   "source": [
    "def check_char_to_token(spans):\n",
    "    for span in spans:\n",
    "        label = span['label']\n",
    "        span_text = text[span['start']:span['end']]\n",
    "        span_words = span_text.split()\n",
    "        print(f'{label}: \"{span_text}\" at {span['start']}')\n",
    "        til = []\n",
    "        errs = []\n",
    "        for i, c in enumerate(span_text):\n",
    "            ti = toked.char_to_token(i + span['start'])\n",
    "            tin = ti is None\n",
    "            is_ws = not bool(c.strip())\n",
    "            if tin ^ is_ws:\n",
    "                errs.append((c, i, is_ws, tin))\n",
    "            if not tin:\n",
    "                til.append(ti)\n",
    "        \n",
    "        if errs:\n",
    "            msg = f'Inconsistent ws and token labels in ({label} \"{span_text}\"'\n",
    "            print(msg)\n",
    "            for err in errs:\n",
    "                c, i, is_ws, tin = err\n",
    "                msgs = [f'\\tchar \"{c}\" at index {i} is']\n",
    "                if not is_ws: \n",
    "                    msgs.append('not')\n",
    "                msgs.append('whitespace but had')\n",
    "                if tin:\n",
    "                    msgs.append('a')\n",
    "                else:\n",
    "                    msgs.append('no')\n",
    "                msgs.append('token id')\n",
    "            print(' '.join(msgs))\n",
    "        tic = Counter(til)\n",
    "        i_min = min(til)\n",
    "        seen = set(til)\n",
    "        expected = {}\n",
    "        for i, span_word in enumerate(span_words):\n",
    "            expected[i + i_min] = len(span_word)\n",
    "        for i in set(tic) | set(expected):\n",
    "            if tic[i] != expected[i]:\n",
    "                print(f'expected {expected[i]} counts for {i}, but saw {tic[i]}')\n",
    "                \n",
    "        "
   ]
  },
  {
   "cell_type": "markdown",
   "id": "9ff1c207-99bb-48b0-8974-709af3025bc2",
   "metadata": {},
   "source": [
    "# Alignment Testing"
   ]
  },
  {
   "cell_type": "code",
   "execution_count": 77,
   "id": "e240c844-ae7b-402b-b15f-2d4a172f7030",
   "metadata": {},
   "outputs": [],
   "source": [
    "iob_labels = ata(toked, spans)"
   ]
  },
  {
   "cell_type": "code",
   "execution_count": 78,
   "id": "8b0176bf-c6d0-45c7-92c8-35681fc97695",
   "metadata": {},
   "outputs": [],
   "source": [
    "def new_span():\n",
    "    return {'tokens': [], 'labels': []}\n",
    "\n",
    "def show_span(span):\n",
    "    for tok, lab in zip(span['tokens'], span['labels']):\n",
    "        print(lab, tok)\n",
    "    if span['tokens']:\n",
    "        print('---------')\n",
    "\n",
    "def update_span(span, tok, lab):\n",
    "    span['tokens'].append(tok)\n",
    "    span['labels'].append(lab)\n",
    "    \n",
    "def analyze_labels(toked, iob_labels):\n",
    "    current_span = new_span()\n",
    "    for tok, lab in zip(toked.tokens, iob_labels):\n",
    "        if lab == 'O':\n",
    "            show_span(current_span)\n",
    "            current_span = new_span()\n",
    "            continue\n",
    "        update_span(current_span, tok, lab)\n",
    "    show_span(current_span)\n",
    "        \n",
    "            \n",
    "        "
   ]
  },
  {
   "cell_type": "code",
   "execution_count": 79,
   "id": "ec7020d6-2c7f-46d0-8e4d-a93ebdf2163a",
   "metadata": {},
   "outputs": [
    {
     "name": "stdout",
     "output_type": "stream",
     "text": [
      "B-vessel Abraham\n",
      "L-vessel Lincoln\n",
      "---------\n",
      "B-person Ned\n",
      "L-person Land,\n",
      "---------\n",
      "B-date 30th\n",
      "I-date of\n",
      "L-date June,\n",
      "---------\n",
      "U-nationality American\n",
      "---------\n",
      "U-vessel Monroe,\n",
      "---------\n",
      "B-person Ned\n",
      "L-person Land\n",
      "---------\n",
      "B-vessel Abraham\n",
      "L-vessel Lincoln,\n",
      "---------\n",
      "B-person Commander\n",
      "L-person Farragut,\n",
      "---------\n",
      "B-person Ned\n",
      "L-person Land\n",
      "---------\n",
      "B-person Ned\n",
      "L-person Land’s\n",
      "---------\n",
      "U-country America\n",
      "---------\n",
      "B-date 3rd\n",
      "I-date of\n",
      "L-date July\n",
      "---------\n",
      "B-place Straits\n",
      "I-place of\n",
      "L-place Magellan,\n",
      "---------\n",
      "B-place Cape\n",
      "L-place Vierges.\n",
      "---------\n",
      "B-person Commander\n",
      "L-person Farragut\n",
      "---------\n",
      "B-place Cape\n",
      "L-place Horn.\n",
      "---------\n"
     ]
    }
   ],
   "source": [
    "analyze_labels(toked, iob_labels)"
   ]
  },
  {
   "cell_type": "markdown",
   "id": "ed2032cd-c970-4546-abd1-34196329e341",
   "metadata": {},
   "source": [
    "# Test Tok2spans"
   ]
  },
  {
   "cell_type": "code",
   "execution_count": 80,
   "id": "918c0acd-b34a-45b5-8ae1-4c8069f63eea",
   "metadata": {},
   "outputs": [],
   "source": [
    "gen_annos = iob2spans(toked.tokens, iob_labels)"
   ]
  },
  {
   "cell_type": "code",
   "execution_count": 81,
   "id": "f2466e28-a564-475c-a099-b762b0061fe9",
   "metadata": {},
   "outputs": [],
   "source": [
    "roundtrip = list(gen_annos)"
   ]
  },
  {
   "cell_type": "code",
   "execution_count": 82,
   "id": "a18984bf-c749-4992-bc73-ed4d46d03814",
   "metadata": {},
   "outputs": [
    {
     "data": {
      "text/plain": [
       "16"
      ]
     },
     "execution_count": 82,
     "metadata": {},
     "output_type": "execute_result"
    }
   ],
   "source": [
    "len(roundtrip)"
   ]
  },
  {
   "cell_type": "code",
   "execution_count": 83,
   "id": "fe2a65d6-e06d-499d-bf5e-ce2c114a1449",
   "metadata": {},
   "outputs": [
    {
     "data": {
      "text/plain": [
       "16"
      ]
     },
     "execution_count": 83,
     "metadata": {},
     "output_type": "execute_result"
    }
   ],
   "source": [
    "len(annos)"
   ]
  },
  {
   "cell_type": "code",
   "execution_count": 84,
   "id": "f185daef-d35a-4387-b2fb-0bfcc511cfb3",
   "metadata": {},
   "outputs": [
    {
     "data": {
      "text/plain": [
       "SpanAnnotation(vessel, 18, 33)"
      ]
     },
     "execution_count": 84,
     "metadata": {},
     "output_type": "execute_result"
    }
   ],
   "source": [
    "roundtrip[0]"
   ]
  },
  {
   "cell_type": "code",
   "execution_count": 85,
   "id": "7bbe682f-42a6-46a2-a3b0-9009951ceca7",
   "metadata": {},
   "outputs": [],
   "source": [
    "def compare_annos(orig, rt):\n",
    "    if len(orig) != len(rt):\n",
    "        print('warning: lengths do not match')\n",
    "    matches = []\n",
    "    diffs = []\n",
    "    for i, apair in enumerate(zip(orig, rt)):\n",
    "        oa, rta = apair\n",
    "        if oa == rta:\n",
    "            matches.append(i)\n",
    "            continue\n",
    "        diffs.append((i, oa, rta))\n",
    "    return matches, diffs"
   ]
  },
  {
   "cell_type": "code",
   "execution_count": 86,
   "id": "fdb61778-d30c-4960-896b-b27cd88c336a",
   "metadata": {},
   "outputs": [],
   "source": [
    "matches, diffs = compare_annos(annos, roundtrip)"
   ]
  },
  {
   "cell_type": "code",
   "execution_count": 87,
   "id": "3c4db1e7-3013-45d5-b627-6856141d86a6",
   "metadata": {},
   "outputs": [
    {
     "data": {
      "text/plain": [
       "8"
      ]
     },
     "execution_count": 87,
     "metadata": {},
     "output_type": "execute_result"
    }
   ],
   "source": [
    "len(matches)"
   ]
  },
  {
   "cell_type": "code",
   "execution_count": 88,
   "id": "a294d6a7-692d-4026-9f2f-05becfde2487",
   "metadata": {},
   "outputs": [
    {
     "data": {
      "text/plain": [
       "8"
      ]
     },
     "execution_count": 88,
     "metadata": {},
     "output_type": "execute_result"
    }
   ],
   "source": [
    "len(diffs)"
   ]
  },
  {
   "cell_type": "code",
   "execution_count": 89,
   "id": "ba1c863a-28c1-4db7-ab5c-93a7ce6ae640",
   "metadata": {},
   "outputs": [
    {
     "data": {
      "text/plain": [
       "(1, SpanAnnotation(person, 155, 163), SpanAnnotation(person, 155, 164))"
      ]
     },
     "execution_count": 89,
     "metadata": {},
     "output_type": "execute_result"
    }
   ],
   "source": [
    "diffs[0]"
   ]
  },
  {
   "cell_type": "code",
   "execution_count": 90,
   "id": "42a02146-5b49-4ba8-a0e2-d1699577e03d",
   "metadata": {},
   "outputs": [
    {
     "data": {
      "text/plain": [
       "[(1, SpanAnnotation(person, 155, 163), SpanAnnotation(person, 155, 164)),\n",
       " (4, SpanAnnotation(vessel, 373, 379), SpanAnnotation(vessel, 373, 380)),\n",
       " (6, SpanAnnotation(vessel, 428, 443), SpanAnnotation(vessel, 428, 444)),\n",
       " (7, SpanAnnotation(person, 503, 521), SpanAnnotation(person, 503, 522)),\n",
       " (9, SpanAnnotation(person, 843, 851), SpanAnnotation(person, 843, 853)),\n",
       " (12, SpanAnnotation(place, 1013, 1032), SpanAnnotation(place, 1013, 1033)),\n",
       " (13, SpanAnnotation(place, 1045, 1057), SpanAnnotation(place, 1045, 1058)),\n",
       " (15, SpanAnnotation(place, 1129, 1138), SpanAnnotation(place, 1129, 1139))]"
      ]
     },
     "execution_count": 90,
     "metadata": {},
     "output_type": "execute_result"
    }
   ],
   "source": [
    "diffs"
   ]
  },
  {
   "cell_type": "code",
   "execution_count": 93,
   "id": "eeefc52a-006e-47d2-bca6-cb905f1b32d2",
   "metadata": {},
   "outputs": [
    {
     "name": "stdout",
     "output_type": "stream",
     "text": [
      "(1, SpanAnnotation(person, 155, 163), SpanAnnotation(person, 155, 164))\n",
      "Ned Land\n",
      "Ned Land,\n",
      "(4, SpanAnnotation(vessel, 373, 379), SpanAnnotation(vessel, 373, 380))\n",
      "Monroe\n",
      "Monroe,\n",
      "(6, SpanAnnotation(vessel, 428, 443), SpanAnnotation(vessel, 428, 444))\n",
      "Abraham Lincoln\n",
      "Abraham Lincoln,\n",
      "(7, SpanAnnotation(person, 503, 521), SpanAnnotation(person, 503, 522))\n",
      "Commander Farragut\n",
      "Commander Farragut,\n",
      "(9, SpanAnnotation(person, 843, 851), SpanAnnotation(person, 843, 853))\n",
      "Ned Land\n",
      "Ned Land’s\n",
      "(12, SpanAnnotation(place, 1013, 1032), SpanAnnotation(place, 1013, 1033))\n",
      "Straits of Magellan\n",
      "Straits of Magellan,\n",
      "(13, SpanAnnotation(place, 1045, 1057), SpanAnnotation(place, 1045, 1058))\n",
      "Cape Vierges\n",
      "Cape Vierges.\n",
      "(15, SpanAnnotation(place, 1129, 1138), SpanAnnotation(place, 1129, 1139))\n",
      "Cape Horn\n",
      "Cape Horn.\n"
     ]
    }
   ],
   "source": [
    "for diff in diffs:\n",
    "    print(diff)\n",
    "    for sa in diff[1:]:\n",
    "        print(text[sa.start:sa.end])"
   ]
  },
  {
   "cell_type": "markdown",
   "id": "47d7c9ea-72c1-4598-8045-2cb6c4ec25f9",
   "metadata": {},
   "source": [
    "expected - original annotation did not include punctuation, so but we are aligning to space-tokenized text,\n",
    "so the round trip spans do."
   ]
  },
  {
   "cell_type": "code",
   "execution_count": null,
   "id": "bb8da9e3-7162-41f4-9ece-f6e1eb72b703",
   "metadata": {},
   "outputs": [],
   "source": []
  }
 ],
 "metadata": {
  "kernelspec": {
   "display_name": "Python 3 (ipykernel)",
   "language": "python",
   "name": "python3"
  },
  "language_info": {
   "codemirror_mode": {
    "name": "ipython",
    "version": 3
   },
   "file_extension": ".py",
   "mimetype": "text/x-python",
   "name": "python",
   "nbconvert_exporter": "python",
   "pygments_lexer": "ipython3",
   "version": "3.12.3"
  }
 },
 "nbformat": 4,
 "nbformat_minor": 5
}
