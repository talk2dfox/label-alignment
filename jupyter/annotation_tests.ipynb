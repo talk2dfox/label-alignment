{
 "cells": [
  {
   "cell_type": "markdown",
   "id": "12378c81-f958-43dd-a118-28535570b81e",
   "metadata": {},
   "source": [
    "# Overview"
   ]
  },
  {
   "cell_type": "markdown",
   "id": "67b78469-ddce-4081-ae9e-7820492e8281",
   "metadata": {},
   "source": [
    "data exploration to test assumptions about our text samples for testing"
   ]
  },
  {
   "cell_type": "markdown",
   "id": "bc285b10-6e51-4f11-b9d3-0f919746691a",
   "metadata": {},
   "source": [
    "# Setup"
   ]
  },
  {
   "cell_type": "markdown",
   "id": "0b7fcfd1-aa41-4346-a8c3-0bee2a79f049",
   "metadata": {},
   "source": [
    "## Imports"
   ]
  },
  {
   "cell_type": "code",
   "execution_count": 1,
   "id": "f2a30409-7ea7-47b2-8966-73b3fe5c1df5",
   "metadata": {},
   "outputs": [],
   "source": [
    "import os"
   ]
  },
  {
   "cell_type": "code",
   "execution_count": 2,
   "id": "4b430a59-db07-41c2-94db-181a48e84717",
   "metadata": {},
   "outputs": [],
   "source": [
    "from pathlib import Path"
   ]
  },
  {
   "cell_type": "code",
   "execution_count": 3,
   "id": "a1627d80-cede-4c82-9930-c4789c2ce1f5",
   "metadata": {},
   "outputs": [],
   "source": [
    "import re"
   ]
  },
  {
   "cell_type": "code",
   "execution_count": 4,
   "id": "1f1c8c86-f253-4ae8-bf3e-212384b89c0e",
   "metadata": {},
   "outputs": [],
   "source": [
    "import xml.etree.ElementTree as ET"
   ]
  },
  {
   "cell_type": "code",
   "execution_count": 5,
   "id": "968baa0d-f71a-45bd-a87e-e330ed64ab84",
   "metadata": {},
   "outputs": [],
   "source": [
    "from xml.sax import make_parser, parse"
   ]
  },
  {
   "cell_type": "code",
   "execution_count": 6,
   "id": "f09faace-e256-4354-a05c-300e65f139e2",
   "metadata": {},
   "outputs": [],
   "source": [
    "import label_alignment.sax2spans"
   ]
  },
  {
   "cell_type": "code",
   "execution_count": 7,
   "id": "42265e8a-24f3-406b-8590-5509477cc7fe",
   "metadata": {},
   "outputs": [],
   "source": [
    "import importlib"
   ]
  },
  {
   "cell_type": "code",
   "execution_count": 8,
   "id": "2fb95a90-51fa-4986-8763-00d129c753ee",
   "metadata": {},
   "outputs": [
    {
     "data": {
      "text/plain": [
       "<module 'label_alignment.sax2spans' from '/Users/dcf/development/python/utils/label-alignment/src/label_alignment/sax2spans.py'>"
      ]
     },
     "execution_count": 8,
     "metadata": {},
     "output_type": "execute_result"
    }
   ],
   "source": [
    "importlib.reload(label_alignment.sax2spans)"
   ]
  },
  {
   "cell_type": "code",
   "execution_count": 9,
   "id": "f437572f-3d55-44d0-9898-16707461979e",
   "metadata": {},
   "outputs": [],
   "source": [
    "from label_alignment.sax2spans import Reporter, SpanAndText"
   ]
  },
  {
   "cell_type": "markdown",
   "id": "2351c8a5-5ae3-4179-873b-dcf7ebbc9acb",
   "metadata": {},
   "source": [
    "# Load Data"
   ]
  },
  {
   "cell_type": "code",
   "execution_count": 10,
   "id": "1dc185df-f5ac-45fb-8967-b2dc5e434806",
   "metadata": {},
   "outputs": [],
   "source": [
    "project_root = Path('..')"
   ]
  },
  {
   "cell_type": "code",
   "execution_count": 11,
   "id": "ffa0ca04-f2aa-450d-9ebd-a1789a71e1f4",
   "metadata": {},
   "outputs": [
    {
     "data": {
      "text/plain": [
       "True"
      ]
     },
     "execution_count": 11,
     "metadata": {},
     "output_type": "execute_result"
    }
   ],
   "source": [
    "project_root.is_dir()"
   ]
  },
  {
   "cell_type": "code",
   "execution_count": 12,
   "id": "15653056-f568-4a5b-84cb-27f9b204ac86",
   "metadata": {},
   "outputs": [
    {
     "data": {
      "text/plain": [
       "PosixPath('/Users/dcf/development/python/utils/label-alignment')"
      ]
     },
     "execution_count": 12,
     "metadata": {},
     "output_type": "execute_result"
    }
   ],
   "source": [
    "project_root.resolve()"
   ]
  },
  {
   "cell_type": "code",
   "execution_count": 13,
   "id": "82de2899-c952-4828-84d8-2a33575a1118",
   "metadata": {},
   "outputs": [],
   "source": [
    "test_data = project_root / 'tests' / 'data'"
   ]
  },
  {
   "cell_type": "code",
   "execution_count": 14,
   "id": "c06069da-5a9b-40cd-acc0-1b61987afc62",
   "metadata": {},
   "outputs": [
    {
     "data": {
      "text/plain": [
       "[PosixPath('../tests/data/annotated_texts')]"
      ]
     },
     "execution_count": 14,
     "metadata": {},
     "output_type": "execute_result"
    }
   ],
   "source": [
    "list(test_data.glob('*'))"
   ]
  },
  {
   "cell_type": "code",
   "execution_count": 15,
   "id": "ed5bbbdd-9d8e-4912-a02a-a5314567ce82",
   "metadata": {},
   "outputs": [],
   "source": [
    "anno = test_data / 'annotated_texts'"
   ]
  },
  {
   "cell_type": "code",
   "execution_count": 16,
   "id": "0b17b301-50aa-4de0-844a-d8694d12ce46",
   "metadata": {},
   "outputs": [
    {
     "data": {
      "text/plain": [
       "[PosixPath('../tests/data/annotated_texts/verne_20000_leagues.ch5.txt')]"
      ]
     },
     "execution_count": 16,
     "metadata": {},
     "output_type": "execute_result"
    }
   ],
   "source": [
    "list(anno.glob('*.txt'))"
   ]
  },
  {
   "cell_type": "code",
   "execution_count": 17,
   "id": "e9ac1120-8e0d-47ad-bf20-ef40cb55bd00",
   "metadata": {},
   "outputs": [
    {
     "data": {
      "text/plain": [
       "[PosixPath('../tests/data/annotated_texts/verne_20000_leagues.ch5.xml')]"
      ]
     },
     "execution_count": 17,
     "metadata": {},
     "output_type": "execute_result"
    }
   ],
   "source": [
    "list(anno.glob('*.xml'))"
   ]
  },
  {
   "cell_type": "code",
   "execution_count": 18,
   "id": "e422403e-e8c9-4f79-b7c0-962d983abf63",
   "metadata": {},
   "outputs": [],
   "source": [
    "verne = 'verne_20000_leagues.ch5'"
   ]
  },
  {
   "cell_type": "code",
   "execution_count": 19,
   "id": "7a69d12e-487f-45bc-9c26-dda919854921",
   "metadata": {},
   "outputs": [],
   "source": [
    "with open(anno / (verne + '.txt')) as vin:\n",
    "    vtext = vin.read()\n",
    "    "
   ]
  },
  {
   "cell_type": "code",
   "execution_count": 20,
   "id": "a3ef3ca2-1502-4c32-a06e-e4deaf2192ad",
   "metadata": {},
   "outputs": [
    {
     "data": {
      "text/plain": [
       "'The voyage of the Abraham Lincoln was for a long time marked by no special incident. But one circumstance happened which showed\\nthe wonderful dexterity of Ned Land, and proved what confidence we might place in him.\\n\\nThe 30th of June, the frigate spoke some American whalers, from whom we learned that they knew nothing about the narwhal. But\\none of them, the captain of the Monroe, knowing that Ned Land had shipped on board the Abraham Lincoln, begged for his help in\\nchasing a whale they had in sight. Commander Farragut, desirous of seeing Ned Land at work, gave him permission to go on board\\nthe Monroe. And fate served our Canadian so well that, instead of one whale, he harpooned two with a double blow, striking one\\nstraight to the heart, and catching the other after some minutes’ pursuit.\\n\\nDecidedly, if the monster ever had to do with Ned Land’s harpoon, I would not bet in its favour.\\n\\nThe frigate skirted the south-east coast of America with great rapidity. The 3rd of July we were at the opening of the Straits\\nof Magellan, level with Cape Vierges. But Commander Farragut would not take a tortuous passage, but doubled Cape Horn.\\n'"
      ]
     },
     "execution_count": 20,
     "metadata": {},
     "output_type": "execute_result"
    }
   ],
   "source": [
    "vtext"
   ]
  },
  {
   "cell_type": "code",
   "execution_count": 21,
   "id": "31b5e1d9-ede8-4b49-b80c-1fabf71daaba",
   "metadata": {},
   "outputs": [],
   "source": [
    "re.search('  ', vtext)"
   ]
  },
  {
   "cell_type": "code",
   "execution_count": 22,
   "id": "67e9db3e-7253-4070-a52e-5ca3b4d709cd",
   "metadata": {},
   "outputs": [
    {
     "data": {
      "text/plain": [
       "'The voyage of the Abraham Lincoln was for a long time marked by no special incident. But one circumstance happened which showed\\nthe wonderful dexterity of Ned Land, and proved what confidence we might place in him.FOOThe 30th of June, the frigate spoke some American whalers, from whom we learned that they knew nothing about the narwhal. But\\none of them, the captain of the Monroe, knowing that Ned Land had shipped on board the Abraham Lincoln, begged for his help in\\nchasing a whale they had in sight. Commander Farragut, desirous of seeing Ned Land at work, gave him permission to go on board\\nthe Monroe. And fate served our Canadian so well that, instead of one whale, he harpooned two with a double blow, striking one\\nstraight to the heart, and catching the other after some minutes’ pursuit.FOODecidedly, if the monster ever had to do with Ned Land’s harpoon, I would not bet in its favour.FOOThe frigate skirted the south-east coast of America with great rapidity. The 3rd of July we were at the opening of the Straits\\nof Magellan, level with Cape Vierges. But Commander Farragut would not take a tortuous passage, but doubled Cape Horn.\\n'"
      ]
     },
     "execution_count": 22,
     "metadata": {},
     "output_type": "execute_result"
    }
   ],
   "source": [
    "re.sub(r'\\n{2}', 'FOO', vtext)"
   ]
  },
  {
   "cell_type": "code",
   "execution_count": 23,
   "id": "4565f8db-fff9-4a86-b009-01306d5a88a1",
   "metadata": {},
   "outputs": [],
   "source": [
    "vx = ET.parse(anno / (verne + '.xml'))"
   ]
  },
  {
   "cell_type": "markdown",
   "id": "30d3fe78-338e-44ac-9f2f-06c32a2e77a6",
   "metadata": {},
   "source": [
    "# Data Exploration"
   ]
  },
  {
   "cell_type": "markdown",
   "id": "7c08407c-246e-474f-8735-f965a381ca88",
   "metadata": {},
   "source": [
    "## Via ElementTree"
   ]
  },
  {
   "cell_type": "code",
   "execution_count": 24,
   "id": "ad17ef88-2555-489b-b364-1da76abfad5e",
   "metadata": {},
   "outputs": [],
   "source": [
    "root = vx.getroot()"
   ]
  },
  {
   "cell_type": "code",
   "execution_count": 25,
   "id": "3a20820d-8652-467f-896e-56d7151102fc",
   "metadata": {},
   "outputs": [
    {
     "data": {
      "text/plain": [
       "'doc'"
      ]
     },
     "execution_count": 25,
     "metadata": {},
     "output_type": "execute_result"
    }
   ],
   "source": [
    "root.tag"
   ]
  },
  {
   "cell_type": "code",
   "execution_count": 26,
   "id": "66b9ceed-fd5f-4089-b863-cc747d1b7f69",
   "metadata": {},
   "outputs": [
    {
     "data": {
      "text/plain": [
       "[<Element 'p' at 0x10e046cf0>,\n",
       " <Element 'p' at 0x10e046de0>,\n",
       " <Element 'p' at 0x10e047100>,\n",
       " <Element 'p' at 0x10e0471a0>]"
      ]
     },
     "execution_count": 26,
     "metadata": {},
     "output_type": "execute_result"
    }
   ],
   "source": [
    "list(root)"
   ]
  },
  {
   "cell_type": "code",
   "execution_count": 27,
   "id": "e7b6a2c7-5781-40d9-8503-60477b6ce36a",
   "metadata": {},
   "outputs": [
    {
     "data": {
      "text/plain": [
       "<Element 'p' at 0x10e046cf0>"
      ]
     },
     "execution_count": 27,
     "metadata": {},
     "output_type": "execute_result"
    }
   ],
   "source": [
    "root[0]"
   ]
  },
  {
   "cell_type": "code",
   "execution_count": 28,
   "id": "404107be-96c5-40fd-bb10-65b17018ffe8",
   "metadata": {},
   "outputs": [
    {
     "data": {
      "text/plain": [
       "[<Element 'p' at 0x10e046cf0>,\n",
       " <Element 'p' at 0x10e046de0>,\n",
       " <Element 'p' at 0x10e047100>,\n",
       " <Element 'p' at 0x10e0471a0>]"
      ]
     },
     "execution_count": 28,
     "metadata": {},
     "output_type": "execute_result"
    }
   ],
   "source": [
    "root.findall('p')"
   ]
  },
  {
   "cell_type": "code",
   "execution_count": 29,
   "id": "d1aefe64-9b22-4187-89bc-5ab8eb25f916",
   "metadata": {},
   "outputs": [],
   "source": [
    "p1 = root.find('p')"
   ]
  },
  {
   "cell_type": "code",
   "execution_count": null,
   "id": "32a35cd7-3111-4200-b4a1-8f4a3a883ba9",
   "metadata": {},
   "outputs": [],
   "source": []
  },
  {
   "cell_type": "code",
   "execution_count": 30,
   "id": "1ad75949-9189-4a4a-b7d7-0975075ecbd9",
   "metadata": {},
   "outputs": [
    {
     "data": {
      "text/plain": [
       "[<Element 'vessel' at 0x10e046d40>, <Element 'person' at 0x10e046d90>]"
      ]
     },
     "execution_count": 30,
     "metadata": {},
     "output_type": "execute_result"
    }
   ],
   "source": [
    "list(p1)"
   ]
  },
  {
   "cell_type": "code",
   "execution_count": 31,
   "id": "36933e81-be06-499e-a7d9-f140de942111",
   "metadata": {},
   "outputs": [
    {
     "data": {
      "text/plain": [
       "'The voyage of the '"
      ]
     },
     "execution_count": 31,
     "metadata": {},
     "output_type": "execute_result"
    }
   ],
   "source": [
    "p1.text"
   ]
  },
  {
   "cell_type": "code",
   "execution_count": 32,
   "id": "e0d4e82e-c42d-498d-869c-5607b9efcbfa",
   "metadata": {},
   "outputs": [
    {
     "data": {
      "text/plain": [
       "[<Element 'p' at 0x10e046cf0>,\n",
       " <Element 'vessel' at 0x10e046d40>,\n",
       " <Element 'person' at 0x10e046d90>]"
      ]
     },
     "execution_count": 32,
     "metadata": {},
     "output_type": "execute_result"
    }
   ],
   "source": [
    "list(p1.iter())"
   ]
  },
  {
   "cell_type": "code",
   "execution_count": 33,
   "id": "0a102595-0147-4f8f-9112-74f3529a6f8c",
   "metadata": {},
   "outputs": [
    {
     "data": {
      "text/plain": [
       "[('The voyage of the ', '\\n\\n'),\n",
       " ('Abraham Lincoln',\n",
       "  ' was for a long time marked by no special incident. But one circumstance happened which showed the wonderful dexterity of '),\n",
       " ('Ned Land', ', and proved what confidence we might place in him.')]"
      ]
     },
     "execution_count": 33,
     "metadata": {},
     "output_type": "execute_result"
    }
   ],
   "source": [
    "[(x.text, x.tail) for x in p1.iter()]"
   ]
  },
  {
   "cell_type": "markdown",
   "id": "bc3f6afa-517d-4e03-baea-85eb1fc52438",
   "metadata": {},
   "source": [
    "## Via Sax"
   ]
  },
  {
   "cell_type": "code",
   "execution_count": 34,
   "id": "8eb07714-b6c3-4d66-9efd-08b87161243e",
   "metadata": {},
   "outputs": [],
   "source": [
    "sparser = make_parser()"
   ]
  },
  {
   "cell_type": "code",
   "execution_count": 35,
   "id": "346e366b-e3d9-4011-b4e1-1b4ee69b85fb",
   "metadata": {},
   "outputs": [],
   "source": [
    "rep = Reporter()"
   ]
  },
  {
   "cell_type": "code",
   "execution_count": 36,
   "id": "ad5715b0-72f7-4553-b56a-b7668898a48f",
   "metadata": {},
   "outputs": [
    {
     "data": {
      "text/plain": [
       "<label_alignment.sax2spans.Reporter at 0x10e065520>"
      ]
     },
     "execution_count": 36,
     "metadata": {},
     "output_type": "execute_result"
    }
   ],
   "source": [
    "rep"
   ]
  },
  {
   "cell_type": "code",
   "execution_count": 37,
   "id": "56bdf2ee-faeb-4f19-b544-444b308cb6e6",
   "metadata": {},
   "outputs": [
    {
     "name": "stdout",
     "output_type": "stream",
     "text": [
      "<xml.sax.expatreader.ExpatLocator object at 0x10e0283b0>\n",
      "starting doc\n",
      "1 characters\n",
      "starting p\n",
      "18 characters\n",
      "starting vessel\n",
      "15 characters\n",
      "ending vessel\n",
      "122 characters\n",
      "starting person\n",
      "8 characters\n",
      "ending person\n",
      "51 characters\n",
      "ending p\n",
      "1 characters\n",
      "1 characters\n",
      "starting p\n",
      "4 characters\n",
      "starting date\n",
      "13 characters\n",
      "ending date\n",
      "24 characters\n",
      "starting nationality\n",
      "8 characters\n",
      "ending nationality\n",
      "109 characters\n",
      "starting vessel\n",
      "6 characters\n",
      "ending vessel\n",
      "15 characters\n",
      "starting person\n",
      "8 characters\n",
      "ending person\n",
      "26 characters\n",
      "starting vessel\n",
      "15 characters\n",
      "ending vessel\n",
      "60 characters\n",
      "starting person\n",
      "18 characters\n",
      "ending person\n",
      "21 characters\n",
      "starting person\n",
      "8 characters\n",
      "ending person\n",
      "246 characters\n",
      "ending p\n",
      "1 characters\n",
      "1 characters\n",
      "starting p\n",
      "46 characters\n",
      "starting person\n",
      "8 characters\n",
      "ending person\n",
      "42 characters\n",
      "ending p\n",
      "1 characters\n",
      "1 characters\n",
      "starting p\n",
      "44 characters\n",
      "starting country\n",
      "7 characters\n",
      "ending country\n",
      "26 characters\n",
      "starting date\n",
      "11 characters\n",
      "ending date\n",
      "31 characters\n",
      "starting place\n",
      "19 characters\n",
      "ending place\n",
      "13 characters\n",
      "starting place\n",
      "12 characters\n",
      "ending place\n",
      "6 characters\n",
      "starting person\n",
      "18 characters\n",
      "ending person\n",
      "48 characters\n",
      "starting place\n",
      "9 characters\n",
      "ending place\n",
      "1 characters\n",
      "ending p\n",
      "1 characters\n",
      "ending doc\n"
     ]
    }
   ],
   "source": [
    "parse(anno / (verne + '.xml'), rep)"
   ]
  },
  {
   "cell_type": "code",
   "execution_count": 38,
   "id": "a4a53266-5a28-4fb5-8d57-fe67451c2152",
   "metadata": {},
   "outputs": [],
   "source": [
    "ch = SpanAndText()"
   ]
  },
  {
   "cell_type": "code",
   "execution_count": null,
   "id": "03164151-ed54-47b0-890a-0b076262110b",
   "metadata": {},
   "outputs": [],
   "source": []
  },
  {
   "cell_type": "code",
   "execution_count": 39,
   "id": "91fad8eb-0432-48e1-97be-0b30a2927eeb",
   "metadata": {},
   "outputs": [
    {
     "name": "stdout",
     "output_type": "stream",
     "text": [
      "starting doc\n",
      "ignoring text outside paragraphs\n",
      "starting paragraph\n",
      "starting vessel\n",
      "ending vessel\n",
      "starting person\n",
      "ending person\n",
      "ending paragraph\n",
      "ignoring text outside paragraphs\n",
      "ignoring text outside paragraphs\n",
      "starting paragraph\n",
      "starting date\n",
      "ending date\n",
      "starting nationality\n",
      "ending nationality\n",
      "starting vessel\n",
      "ending vessel\n",
      "starting person\n",
      "ending person\n",
      "starting vessel\n",
      "ending vessel\n",
      "starting person\n",
      "ending person\n",
      "starting person\n",
      "ending person\n",
      "ending paragraph\n",
      "ignoring text outside paragraphs\n",
      "ignoring text outside paragraphs\n",
      "starting paragraph\n",
      "starting person\n",
      "ending person\n",
      "ending paragraph\n",
      "ignoring text outside paragraphs\n",
      "ignoring text outside paragraphs\n",
      "starting paragraph\n",
      "starting country\n",
      "ending country\n",
      "starting date\n",
      "ending date\n",
      "starting place\n",
      "ending place\n",
      "starting place\n",
      "ending place\n",
      "starting person\n",
      "ending person\n",
      "starting place\n",
      "ending place\n",
      "ending paragraph\n",
      "ignoring text outside paragraphs\n",
      "ending doc\n",
      "4 paragraphs\n"
     ]
    }
   ],
   "source": [
    "parse(anno / (verne + '.xml'), ch)"
   ]
  },
  {
   "cell_type": "code",
   "execution_count": 40,
   "id": "596415e1-5810-4790-ba77-5cda8387a09c",
   "metadata": {},
   "outputs": [],
   "source": [
    "text, annos = ch.text_and_spans()"
   ]
  },
  {
   "cell_type": "code",
   "execution_count": 41,
   "id": "85e266d5-ab01-46b3-95f0-699b337f8334",
   "metadata": {},
   "outputs": [
    {
     "data": {
      "text/plain": [
       "1140"
      ]
     },
     "execution_count": 41,
     "metadata": {},
     "output_type": "execute_result"
    }
   ],
   "source": [
    "len(text)"
   ]
  },
  {
   "cell_type": "code",
   "execution_count": 42,
   "id": "2d5b5a97-cfb7-45b7-bd12-6669e1e8360f",
   "metadata": {},
   "outputs": [
    {
     "name": "stdout",
     "output_type": "stream",
     "text": [
      "The voyage of the Abraham Lincoln was for a long time marked by no special incident. But one circumstance happened which showed the wonderful dexterity of Ned Land, and proved what confidence we might place in him.\n",
      "The 30th of June, the frigate spoke some American whalers, from whom we learned that they knew nothing about the narwhal. But one of them, the captain of the Monroe, knowing that Ned Land had shipped on board the Abraham Lincoln, begged for his help in chasing a whale they had in sight. Commander Farragut, desirous of seeing Ned Land at work, gave him permission to go on board the Monroe. And fate served our Canadian so well that, instead of one whale, he harpooned two with a double blow, striking one straight to the heart, and catching the other after some minutes’ pursuit.\n",
      "Decidedly, if the monster ever had to do with Ned Land’s harpoon, I would not bet in its favour.\n",
      "The frigate skirted the south-east coast of America with great rapidity. The 3rd of July we were at the opening of the Straits of Magellan, level with Cape Vierges. But Commander Farragut would not take a tortuous passage, but doubled Cape Horn.\n",
      "\n"
     ]
    }
   ],
   "source": [
    "print(text)"
   ]
  },
  {
   "cell_type": "code",
   "execution_count": 43,
   "id": "0ab6d940-b220-48f0-ac48-d1bd04588002",
   "metadata": {},
   "outputs": [
    {
     "data": {
      "text/plain": [
       "16"
      ]
     },
     "execution_count": 43,
     "metadata": {},
     "output_type": "execute_result"
    }
   ],
   "source": [
    "len(annos)"
   ]
  },
  {
   "cell_type": "code",
   "execution_count": 44,
   "id": "b825f586-3a6d-47fc-aeba-a6bddb2dc63e",
   "metadata": {},
   "outputs": [
    {
     "data": {
      "text/plain": [
       "<label_alignment.span_annotation.SpanAnnotation at 0x10e066bd0>"
      ]
     },
     "execution_count": 44,
     "metadata": {},
     "output_type": "execute_result"
    }
   ],
   "source": [
    "annos[0]"
   ]
  },
  {
   "cell_type": "code",
   "execution_count": 45,
   "id": "58eb9728-518d-4fa8-9755-9635bdeadc9a",
   "metadata": {},
   "outputs": [
    {
     "name": "stdout",
     "output_type": "stream",
     "text": [
      "vessel\n",
      "18 33\n",
      "Abraham Lincoln\n",
      "person\n",
      "155 163\n",
      "Ned Land\n",
      "date\n",
      "219 232\n",
      "30th of June,\n",
      "nationality\n",
      "256 264\n",
      "American\n",
      "vessel\n",
      "373 379\n",
      "Monroe\n",
      "person\n",
      "394 402\n",
      "Ned Land\n",
      "vessel\n",
      "428 443\n",
      "Abraham Lincoln\n",
      "person\n",
      "503 521\n",
      "Commander Farragut\n",
      "person\n",
      "542 550\n",
      "Ned Land\n",
      "person\n",
      "843 851\n",
      "Ned Land\n",
      "country\n",
      "938 945\n",
      "America\n",
      "date\n",
      "971 982\n",
      "3rd of July\n",
      "place\n",
      "1013 1032\n",
      "Straits of Magellan\n",
      "place\n",
      "1045 1057\n",
      "Cape Vierges\n",
      "person\n",
      "1063 1081\n",
      "Commander Farragut\n",
      "place\n",
      "1129 1138\n",
      "Cape Horn\n"
     ]
    }
   ],
   "source": [
    "for anno in annos:\n",
    "    print(anno.label)\n",
    "    print(anno.start, anno.end)\n",
    "    print(text[anno.start:anno.end])\n"
   ]
  },
  {
   "cell_type": "code",
   "execution_count": null,
   "id": "0f7557eb-97da-428b-ae4d-7edd70698dde",
   "metadata": {},
   "outputs": [],
   "source": []
  }
 ],
 "metadata": {
  "kernelspec": {
   "display_name": "Python 3 (ipykernel)",
   "language": "python",
   "name": "python3"
  },
  "language_info": {
   "codemirror_mode": {
    "name": "ipython",
    "version": 3
   },
   "file_extension": ".py",
   "mimetype": "text/x-python",
   "name": "python",
   "nbconvert_exporter": "python",
   "pygments_lexer": "ipython3",
   "version": "3.12.3"
  }
 },
 "nbformat": 4,
 "nbformat_minor": 5
}
